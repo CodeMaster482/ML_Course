{
  "cells": [
    {
      "cell_type": "markdown",
      "metadata": {
        "id": "7vVExvchdmBZ"
      },
      "source": [
        "# Коваленко Григорий ИУ5-64Б\n",
        "## Качество яблок\n",
        "\n",
        "---\n",
        "\n",
        "### Описание:\n",
        "\n",
        "Этот набор данных содержит информацию о различных атрибутах набора фруктов, дающую представление об их характеристиках. Набор данных включает такие сведения, как идентификатор плода, размер, вес, сладость, хрусткость, сочность, зрелость, кислотность и качество.\n",
        "\n",
        "Ссылка на датасет: https://www.kaggle.com/datasets/nelgiriyewithana/apple-quality"
      ]
    },
    {
      "cell_type": "code",
      "execution_count": 7,
      "metadata": {
        "colab": {
          "base_uri": "https://localhost:8080/"
        },
        "id": "IHrt3ekDib_1",
        "outputId": "6f48b5d3-03e4-4d51-e043-258187bb12ad"
      },
      "outputs": [
        {
          "name": "stdout",
          "output_type": "stream",
          "text": [
            "Archive:  archive(3).zip\n",
            "  inflating: apple_quality.csv       \n"
          ]
        }
      ],
      "source": [
        "!unzip \"archive(3).zip\""
      ]
    },
    {
      "cell_type": "code",
      "execution_count": 34,
      "metadata": {
        "id": "gF_eWDOxc_Ie"
      },
      "outputs": [],
      "source": [
        "import pandas as pd\n",
        "import matplotlib.pyplot as plt\n",
        "import numpy as np\n",
        "import seaborn as sb\n",
        "from sklearn.preprocessing import LabelEncoder\n",
        "import warnings\n",
        "warnings.filterwarnings('ignore')"
      ]
    },
    {
      "cell_type": "code",
      "execution_count": 35,
      "metadata": {
        "id": "5GZQcG_VfPAg"
      },
      "outputs": [],
      "source": [
        "df_apple = pd.read_csv(\"apple_quality.csv\",\n",
        "                         sep=\",\",\n",
        "                         low_memory=False)"
      ]
    },
    {
      "cell_type": "code",
      "execution_count": 36,
      "metadata": {
        "colab": {
          "base_uri": "https://localhost:8080/"
        },
        "id": "4NA-VUcGghX0",
        "outputId": "4f857518-2824-44aa-87ad-ba3adef9cfc2"
      },
      "outputs": [
        {
          "name": "stdout",
          "output_type": "stream",
          "text": [
            "<class 'pandas.core.frame.DataFrame'>\n",
            "RangeIndex: 4001 entries, 0 to 4000\n",
            "Data columns (total 9 columns):\n",
            " #   Column       Non-Null Count  Dtype  \n",
            "---  ------       --------------  -----  \n",
            " 0   A_id         4000 non-null   float64\n",
            " 1   Size         4000 non-null   float64\n",
            " 2   Weight       4000 non-null   float64\n",
            " 3   Sweetness    4000 non-null   float64\n",
            " 4   Crunchiness  4000 non-null   float64\n",
            " 5   Juiciness    4000 non-null   float64\n",
            " 6   Ripeness     4000 non-null   float64\n",
            " 7   Acidity      4001 non-null   object \n",
            " 8   Quality      4000 non-null   object \n",
            "dtypes: float64(7), object(2)\n",
            "memory usage: 281.4+ KB\n"
          ]
        }
      ],
      "source": [
        "df_apple.info()"
      ]
    },
    {
      "cell_type": "code",
      "execution_count": 37,
      "metadata": {
        "colab": {
          "base_uri": "https://localhost:8080/",
          "height": 206
        },
        "id": "QvYnvtUigrCj",
        "outputId": "91db7fce-d94c-48f0-97ae-38205538432e"
      },
      "outputs": [
        {
          "data": {
            "text/html": [
              "<div>\n",
              "<style scoped>\n",
              "    .dataframe tbody tr th:only-of-type {\n",
              "        vertical-align: middle;\n",
              "    }\n",
              "\n",
              "    .dataframe tbody tr th {\n",
              "        vertical-align: top;\n",
              "    }\n",
              "\n",
              "    .dataframe thead th {\n",
              "        text-align: right;\n",
              "    }\n",
              "</style>\n",
              "<table border=\"1\" class=\"dataframe\">\n",
              "  <thead>\n",
              "    <tr style=\"text-align: right;\">\n",
              "      <th></th>\n",
              "      <th>A_id</th>\n",
              "      <th>Size</th>\n",
              "      <th>Weight</th>\n",
              "      <th>Sweetness</th>\n",
              "      <th>Crunchiness</th>\n",
              "      <th>Juiciness</th>\n",
              "      <th>Ripeness</th>\n",
              "      <th>Acidity</th>\n",
              "      <th>Quality</th>\n",
              "    </tr>\n",
              "  </thead>\n",
              "  <tbody>\n",
              "    <tr>\n",
              "      <th>0</th>\n",
              "      <td>0.0</td>\n",
              "      <td>-3.970049</td>\n",
              "      <td>-2.512336</td>\n",
              "      <td>5.346330</td>\n",
              "      <td>-1.012009</td>\n",
              "      <td>1.844900</td>\n",
              "      <td>0.329840</td>\n",
              "      <td>-0.491590483</td>\n",
              "      <td>good</td>\n",
              "    </tr>\n",
              "    <tr>\n",
              "      <th>1</th>\n",
              "      <td>1.0</td>\n",
              "      <td>-1.195217</td>\n",
              "      <td>-2.839257</td>\n",
              "      <td>3.664059</td>\n",
              "      <td>1.588232</td>\n",
              "      <td>0.853286</td>\n",
              "      <td>0.867530</td>\n",
              "      <td>-0.722809367</td>\n",
              "      <td>good</td>\n",
              "    </tr>\n",
              "    <tr>\n",
              "      <th>2</th>\n",
              "      <td>2.0</td>\n",
              "      <td>-0.292024</td>\n",
              "      <td>-1.351282</td>\n",
              "      <td>-1.738429</td>\n",
              "      <td>-0.342616</td>\n",
              "      <td>2.838636</td>\n",
              "      <td>-0.038033</td>\n",
              "      <td>2.621636473</td>\n",
              "      <td>bad</td>\n",
              "    </tr>\n",
              "    <tr>\n",
              "      <th>3</th>\n",
              "      <td>3.0</td>\n",
              "      <td>-0.657196</td>\n",
              "      <td>-2.271627</td>\n",
              "      <td>1.324874</td>\n",
              "      <td>-0.097875</td>\n",
              "      <td>3.637970</td>\n",
              "      <td>-3.413761</td>\n",
              "      <td>0.790723217</td>\n",
              "      <td>good</td>\n",
              "    </tr>\n",
              "    <tr>\n",
              "      <th>4</th>\n",
              "      <td>4.0</td>\n",
              "      <td>1.364217</td>\n",
              "      <td>-1.296612</td>\n",
              "      <td>-0.384658</td>\n",
              "      <td>-0.553006</td>\n",
              "      <td>3.030874</td>\n",
              "      <td>-1.303849</td>\n",
              "      <td>0.501984036</td>\n",
              "      <td>good</td>\n",
              "    </tr>\n",
              "  </tbody>\n",
              "</table>\n",
              "</div>"
            ],
            "text/plain": [
              "   A_id      Size    Weight  Sweetness  Crunchiness  Juiciness  Ripeness  \\\n",
              "0   0.0 -3.970049 -2.512336   5.346330    -1.012009   1.844900  0.329840   \n",
              "1   1.0 -1.195217 -2.839257   3.664059     1.588232   0.853286  0.867530   \n",
              "2   2.0 -0.292024 -1.351282  -1.738429    -0.342616   2.838636 -0.038033   \n",
              "3   3.0 -0.657196 -2.271627   1.324874    -0.097875   3.637970 -3.413761   \n",
              "4   4.0  1.364217 -1.296612  -0.384658    -0.553006   3.030874 -1.303849   \n",
              "\n",
              "        Acidity Quality  \n",
              "0  -0.491590483    good  \n",
              "1  -0.722809367    good  \n",
              "2   2.621636473     bad  \n",
              "3   0.790723217    good  \n",
              "4   0.501984036    good  "
            ]
          },
          "execution_count": 37,
          "metadata": {},
          "output_type": "execute_result"
        }
      ],
      "source": [
        "df_apple.head()"
      ]
    },
    {
      "cell_type": "code",
      "execution_count": 38,
      "metadata": {
        "colab": {
          "base_uri": "https://localhost:8080/",
          "height": 301
        },
        "id": "tfsN_ci1hCUW",
        "outputId": "7bcb6af1-75f3-44ad-9a5d-f52366c1bdb5"
      },
      "outputs": [
        {
          "data": {
            "text/html": [
              "<div>\n",
              "<style scoped>\n",
              "    .dataframe tbody tr th:only-of-type {\n",
              "        vertical-align: middle;\n",
              "    }\n",
              "\n",
              "    .dataframe tbody tr th {\n",
              "        vertical-align: top;\n",
              "    }\n",
              "\n",
              "    .dataframe thead th {\n",
              "        text-align: right;\n",
              "    }\n",
              "</style>\n",
              "<table border=\"1\" class=\"dataframe\">\n",
              "  <thead>\n",
              "    <tr style=\"text-align: right;\">\n",
              "      <th></th>\n",
              "      <th>A_id</th>\n",
              "      <th>Size</th>\n",
              "      <th>Weight</th>\n",
              "      <th>Sweetness</th>\n",
              "      <th>Crunchiness</th>\n",
              "      <th>Juiciness</th>\n",
              "      <th>Ripeness</th>\n",
              "    </tr>\n",
              "  </thead>\n",
              "  <tbody>\n",
              "    <tr>\n",
              "      <th>count</th>\n",
              "      <td>4000.000000</td>\n",
              "      <td>4000.000000</td>\n",
              "      <td>4000.000000</td>\n",
              "      <td>4000.000000</td>\n",
              "      <td>4000.000000</td>\n",
              "      <td>4000.000000</td>\n",
              "      <td>4000.000000</td>\n",
              "    </tr>\n",
              "    <tr>\n",
              "      <th>mean</th>\n",
              "      <td>1999.500000</td>\n",
              "      <td>-0.503015</td>\n",
              "      <td>-0.989547</td>\n",
              "      <td>-0.470479</td>\n",
              "      <td>0.985478</td>\n",
              "      <td>0.512118</td>\n",
              "      <td>0.498277</td>\n",
              "    </tr>\n",
              "    <tr>\n",
              "      <th>std</th>\n",
              "      <td>1154.844867</td>\n",
              "      <td>1.928059</td>\n",
              "      <td>1.602507</td>\n",
              "      <td>1.943441</td>\n",
              "      <td>1.402757</td>\n",
              "      <td>1.930286</td>\n",
              "      <td>1.874427</td>\n",
              "    </tr>\n",
              "    <tr>\n",
              "      <th>min</th>\n",
              "      <td>0.000000</td>\n",
              "      <td>-7.151703</td>\n",
              "      <td>-7.149848</td>\n",
              "      <td>-6.894485</td>\n",
              "      <td>-6.055058</td>\n",
              "      <td>-5.961897</td>\n",
              "      <td>-5.864599</td>\n",
              "    </tr>\n",
              "    <tr>\n",
              "      <th>25%</th>\n",
              "      <td>999.750000</td>\n",
              "      <td>-1.816765</td>\n",
              "      <td>-2.011770</td>\n",
              "      <td>-1.738425</td>\n",
              "      <td>0.062764</td>\n",
              "      <td>-0.801286</td>\n",
              "      <td>-0.771677</td>\n",
              "    </tr>\n",
              "    <tr>\n",
              "      <th>50%</th>\n",
              "      <td>1999.500000</td>\n",
              "      <td>-0.513703</td>\n",
              "      <td>-0.984736</td>\n",
              "      <td>-0.504758</td>\n",
              "      <td>0.998249</td>\n",
              "      <td>0.534219</td>\n",
              "      <td>0.503445</td>\n",
              "    </tr>\n",
              "    <tr>\n",
              "      <th>75%</th>\n",
              "      <td>2999.250000</td>\n",
              "      <td>0.805526</td>\n",
              "      <td>0.030976</td>\n",
              "      <td>0.801922</td>\n",
              "      <td>1.894234</td>\n",
              "      <td>1.835976</td>\n",
              "      <td>1.766212</td>\n",
              "    </tr>\n",
              "    <tr>\n",
              "      <th>max</th>\n",
              "      <td>3999.000000</td>\n",
              "      <td>6.406367</td>\n",
              "      <td>5.790714</td>\n",
              "      <td>6.374916</td>\n",
              "      <td>7.619852</td>\n",
              "      <td>7.364403</td>\n",
              "      <td>7.237837</td>\n",
              "    </tr>\n",
              "  </tbody>\n",
              "</table>\n",
              "</div>"
            ],
            "text/plain": [
              "              A_id         Size       Weight    Sweetness  Crunchiness  \\\n",
              "count  4000.000000  4000.000000  4000.000000  4000.000000  4000.000000   \n",
              "mean   1999.500000    -0.503015    -0.989547    -0.470479     0.985478   \n",
              "std    1154.844867     1.928059     1.602507     1.943441     1.402757   \n",
              "min       0.000000    -7.151703    -7.149848    -6.894485    -6.055058   \n",
              "25%     999.750000    -1.816765    -2.011770    -1.738425     0.062764   \n",
              "50%    1999.500000    -0.513703    -0.984736    -0.504758     0.998249   \n",
              "75%    2999.250000     0.805526     0.030976     0.801922     1.894234   \n",
              "max    3999.000000     6.406367     5.790714     6.374916     7.619852   \n",
              "\n",
              "         Juiciness     Ripeness  \n",
              "count  4000.000000  4000.000000  \n",
              "mean      0.512118     0.498277  \n",
              "std       1.930286     1.874427  \n",
              "min      -5.961897    -5.864599  \n",
              "25%      -0.801286    -0.771677  \n",
              "50%       0.534219     0.503445  \n",
              "75%       1.835976     1.766212  \n",
              "max       7.364403     7.237837  "
            ]
          },
          "execution_count": 38,
          "metadata": {},
          "output_type": "execute_result"
        }
      ],
      "source": [
        "df_apple.describe()"
      ]
    },
    {
      "cell_type": "code",
      "execution_count": 39,
      "metadata": {
        "colab": {
          "base_uri": "https://localhost:8080/"
        },
        "id": "VTPq4oOijUHH",
        "outputId": "ca74fe42-f92d-4b93-f586-146df5809f5e"
      },
      "outputs": [
        {
          "data": {
            "text/plain": [
              "A_id           1\n",
              "Size           1\n",
              "Weight         1\n",
              "Sweetness      1\n",
              "Crunchiness    1\n",
              "Juiciness      1\n",
              "Ripeness       1\n",
              "Acidity        0\n",
              "Quality        1\n",
              "dtype: int64"
            ]
          },
          "execution_count": 39,
          "metadata": {},
          "output_type": "execute_result"
        }
      ],
      "source": [
        "df_apple.isnull().sum()"
      ]
    },
    {
      "cell_type": "code",
      "execution_count": 40,
      "metadata": {
        "colab": {
          "base_uri": "https://localhost:8080/"
        },
        "id": "ptpcSAltjZ5G",
        "outputId": "9a9440cd-7a58-4dd5-baf9-9e6fa3d0c665"
      },
      "outputs": [
        {
          "data": {
            "text/plain": [
              "0"
            ]
          },
          "execution_count": 40,
          "metadata": {},
          "output_type": "execute_result"
        }
      ],
      "source": [
        "df_apple.duplicated().sum()"
      ]
    },
    {
      "cell_type": "code",
      "execution_count": 41,
      "metadata": {
        "colab": {
          "base_uri": "https://localhost:8080/",
          "height": 206
        },
        "id": "LGTVEcEBjms-",
        "outputId": "ccfdc854-0d6a-420f-d22b-174d434c88db"
      },
      "outputs": [
        {
          "data": {
            "text/html": [
              "<div>\n",
              "<style scoped>\n",
              "    .dataframe tbody tr th:only-of-type {\n",
              "        vertical-align: middle;\n",
              "    }\n",
              "\n",
              "    .dataframe tbody tr th {\n",
              "        vertical-align: top;\n",
              "    }\n",
              "\n",
              "    .dataframe thead th {\n",
              "        text-align: right;\n",
              "    }\n",
              "</style>\n",
              "<table border=\"1\" class=\"dataframe\">\n",
              "  <thead>\n",
              "    <tr style=\"text-align: right;\">\n",
              "      <th></th>\n",
              "      <th>A_id</th>\n",
              "      <th>Size</th>\n",
              "      <th>Weight</th>\n",
              "      <th>Sweetness</th>\n",
              "      <th>Crunchiness</th>\n",
              "      <th>Juiciness</th>\n",
              "      <th>Ripeness</th>\n",
              "      <th>Acidity</th>\n",
              "      <th>Quality</th>\n",
              "    </tr>\n",
              "  </thead>\n",
              "  <tbody>\n",
              "    <tr>\n",
              "      <th>0</th>\n",
              "      <td>0.0</td>\n",
              "      <td>-3.970049</td>\n",
              "      <td>-2.512336</td>\n",
              "      <td>5.346330</td>\n",
              "      <td>-1.012009</td>\n",
              "      <td>1.844900</td>\n",
              "      <td>0.329840</td>\n",
              "      <td>-0.491590483</td>\n",
              "      <td>good</td>\n",
              "    </tr>\n",
              "    <tr>\n",
              "      <th>1</th>\n",
              "      <td>1.0</td>\n",
              "      <td>-1.195217</td>\n",
              "      <td>-2.839257</td>\n",
              "      <td>3.664059</td>\n",
              "      <td>1.588232</td>\n",
              "      <td>0.853286</td>\n",
              "      <td>0.867530</td>\n",
              "      <td>-0.722809367</td>\n",
              "      <td>good</td>\n",
              "    </tr>\n",
              "    <tr>\n",
              "      <th>2</th>\n",
              "      <td>2.0</td>\n",
              "      <td>-0.292024</td>\n",
              "      <td>-1.351282</td>\n",
              "      <td>-1.738429</td>\n",
              "      <td>-0.342616</td>\n",
              "      <td>2.838636</td>\n",
              "      <td>-0.038033</td>\n",
              "      <td>2.621636473</td>\n",
              "      <td>bad</td>\n",
              "    </tr>\n",
              "    <tr>\n",
              "      <th>3</th>\n",
              "      <td>3.0</td>\n",
              "      <td>-0.657196</td>\n",
              "      <td>-2.271627</td>\n",
              "      <td>1.324874</td>\n",
              "      <td>-0.097875</td>\n",
              "      <td>3.637970</td>\n",
              "      <td>-3.413761</td>\n",
              "      <td>0.790723217</td>\n",
              "      <td>good</td>\n",
              "    </tr>\n",
              "    <tr>\n",
              "      <th>4</th>\n",
              "      <td>4.0</td>\n",
              "      <td>1.364217</td>\n",
              "      <td>-1.296612</td>\n",
              "      <td>-0.384658</td>\n",
              "      <td>-0.553006</td>\n",
              "      <td>3.030874</td>\n",
              "      <td>-1.303849</td>\n",
              "      <td>0.501984036</td>\n",
              "      <td>good</td>\n",
              "    </tr>\n",
              "  </tbody>\n",
              "</table>\n",
              "</div>"
            ],
            "text/plain": [
              "   A_id      Size    Weight  Sweetness  Crunchiness  Juiciness  Ripeness  \\\n",
              "0   0.0 -3.970049 -2.512336   5.346330    -1.012009   1.844900  0.329840   \n",
              "1   1.0 -1.195217 -2.839257   3.664059     1.588232   0.853286  0.867530   \n",
              "2   2.0 -0.292024 -1.351282  -1.738429    -0.342616   2.838636 -0.038033   \n",
              "3   3.0 -0.657196 -2.271627   1.324874    -0.097875   3.637970 -3.413761   \n",
              "4   4.0  1.364217 -1.296612  -0.384658    -0.553006   3.030874 -1.303849   \n",
              "\n",
              "        Acidity Quality  \n",
              "0  -0.491590483    good  \n",
              "1  -0.722809367    good  \n",
              "2   2.621636473     bad  \n",
              "3   0.790723217    good  \n",
              "4   0.501984036    good  "
            ]
          },
          "execution_count": 41,
          "metadata": {},
          "output_type": "execute_result"
        }
      ],
      "source": [
        "df_apple=df_apple.dropna()\n",
        "df_apple.head()"
      ]
    },
    {
      "cell_type": "code",
      "execution_count": 42,
      "metadata": {
        "colab": {
          "base_uri": "https://localhost:8080/"
        },
        "id": "PC0TuNgPj7l-",
        "outputId": "63c4d969-dae2-459b-ac54-eebee79eb1b5"
      },
      "outputs": [
        {
          "data": {
            "text/plain": [
              "Quality\n",
              "good    2004\n",
              "bad     1996\n",
              "Name: count, dtype: int64"
            ]
          },
          "execution_count": 42,
          "metadata": {},
          "output_type": "execute_result"
        }
      ],
      "source": [
        "compare = df_apple['Quality'].value_counts()\n",
        "compare"
      ]
    },
    {
      "cell_type": "code",
      "execution_count": 43,
      "metadata": {
        "colab": {
          "base_uri": "https://localhost:8080/",
          "height": 472
        },
        "id": "iQXOlceykCoD",
        "outputId": "5ba7a99d-6525-4ab8-bdf6-c6a35e2b6437"
      },
      "outputs": [
        {
          "data": {
            "image/png": "[encoded data removed]",
            "text/plain": [
              "<Figure size 640x480 with 1 Axes>"
            ]
          },
          "metadata": {},
          "output_type": "display_data"
        }
      ],
      "source": [
        "plt.bar(compare.index, compare, color='lightblue')\n",
        "\n",
        "plt.xlabel('quality')\n",
        "plt.ylabel('count')\n",
        "plt.title('good , bad quaility')\n",
        "\n",
        "plt.show()"
      ]
    },
    {
      "cell_type": "code",
      "execution_count": 44,
      "metadata": {
        "colab": {
          "base_uri": "https://localhost:8080/",
          "height": 472
        },
        "id": "YbEZKmiWkj7_",
        "outputId": "ce37534b-7067-4da6-8bfb-8608757380ed"
      },
      "outputs": [
        {
          "data": {
            "image/png": "[encoded data removed]",
            "text/plain": [
              "<Figure size 640x480 with 1 Axes>"
            ]
          },
          "metadata": {},
          "output_type": "display_data"
        }
      ],
      "source": [
        "plt.boxplot(df_apple['Size'])\n",
        "\n",
        "plt.xlabel('Size')\n",
        "plt.ylabel('Values')\n",
        "plt.title('Box Plot Example')\n",
        "\n",
        "plt.show()"
      ]
    },
    {
      "cell_type": "code",
      "execution_count": 45,
      "metadata": {
        "colab": {
          "base_uri": "https://localhost:8080/",
          "height": 472
        },
        "id": "SdXyaUh4l-wb",
        "outputId": "de2b12dc-deef-46be-8f8e-64d4cb514255"
      },
      "outputs": [
        {
          "data": {
            "image/png": "[encoded data removed]",
            "text/plain": [
              "<Figure size 640x480 with 1 Axes>"
            ]
          },
          "metadata": {},
          "output_type": "display_data"
        }
      ],
      "source": [
        "plt.boxplot(df_apple['Weight'])\n",
        "\n",
        "plt.xlabel('Weight')\n",
        "plt.ylabel('Values')\n",
        "plt.title('Box Plot Example')\n",
        "\n",
        "plt.show()"
      ]
    },
    {
      "cell_type": "code",
      "execution_count": 46,
      "metadata": {
        "colab": {
          "base_uri": "https://localhost:8080/",
          "height": 472
        },
        "id": "rviBIOEgmLfQ",
        "outputId": "7b32c0f5-19c9-4c05-fff9-5df962f6a7ba"
      },
      "outputs": [
        {
          "data": {
            "image/png": "[encoded data removed]",
            "text/plain": [
              "<Figure size 640x480 with 1 Axes>"
            ]
          },
          "metadata": {},
          "output_type": "display_data"
        }
      ],
      "source": [
        "plt.boxplot(df_apple['Sweetness'])\n",
        "\n",
        "plt.xlabel('Sweetness')\n",
        "plt.ylabel('Values')\n",
        "plt.title('Box Plot Example')\n",
        "\n",
        "plt.show()"
      ]
    },
    {
      "cell_type": "code",
      "execution_count": 47,
      "metadata": {
        "colab": {
          "base_uri": "https://localhost:8080/",
          "height": 206
        },
        "id": "k7qWHmQ3mLc5",
        "outputId": "1a5fac96-f07b-4268-f78e-cffb6f2ec76e"
      },
      "outputs": [
        {
          "data": {
            "text/html": [
              "<div>\n",
              "<style scoped>\n",
              "    .dataframe tbody tr th:only-of-type {\n",
              "        vertical-align: middle;\n",
              "    }\n",
              "\n",
              "    .dataframe tbody tr th {\n",
              "        vertical-align: top;\n",
              "    }\n",
              "\n",
              "    .dataframe thead th {\n",
              "        text-align: right;\n",
              "    }\n",
              "</style>\n",
              "<table border=\"1\" class=\"dataframe\">\n",
              "  <thead>\n",
              "    <tr style=\"text-align: right;\">\n",
              "      <th></th>\n",
              "      <th>Size</th>\n",
              "      <th>Weight</th>\n",
              "      <th>Sweetness</th>\n",
              "      <th>Crunchiness</th>\n",
              "      <th>Juiciness</th>\n",
              "      <th>Ripeness</th>\n",
              "    </tr>\n",
              "  </thead>\n",
              "  <tbody>\n",
              "    <tr>\n",
              "      <th>0</th>\n",
              "      <td>-3.970049</td>\n",
              "      <td>-2.512336</td>\n",
              "      <td>5.346330</td>\n",
              "      <td>-1.012009</td>\n",
              "      <td>1.844900</td>\n",
              "      <td>0.329840</td>\n",
              "    </tr>\n",
              "    <tr>\n",
              "      <th>1</th>\n",
              "      <td>-1.195217</td>\n",
              "      <td>-2.839257</td>\n",
              "      <td>3.664059</td>\n",
              "      <td>1.588232</td>\n",
              "      <td>0.853286</td>\n",
              "      <td>0.867530</td>\n",
              "    </tr>\n",
              "    <tr>\n",
              "      <th>2</th>\n",
              "      <td>-0.292024</td>\n",
              "      <td>-1.351282</td>\n",
              "      <td>-1.738429</td>\n",
              "      <td>-0.342616</td>\n",
              "      <td>2.838636</td>\n",
              "      <td>-0.038033</td>\n",
              "    </tr>\n",
              "    <tr>\n",
              "      <th>3</th>\n",
              "      <td>-0.657196</td>\n",
              "      <td>-2.271627</td>\n",
              "      <td>1.324874</td>\n",
              "      <td>-0.097875</td>\n",
              "      <td>3.637970</td>\n",
              "      <td>-3.413761</td>\n",
              "    </tr>\n",
              "    <tr>\n",
              "      <th>4</th>\n",
              "      <td>1.364217</td>\n",
              "      <td>-1.296612</td>\n",
              "      <td>-0.384658</td>\n",
              "      <td>-0.553006</td>\n",
              "      <td>3.030874</td>\n",
              "      <td>-1.303849</td>\n",
              "    </tr>\n",
              "  </tbody>\n",
              "</table>\n",
              "</div>"
            ],
            "text/plain": [
              "       Size    Weight  Sweetness  Crunchiness  Juiciness  Ripeness\n",
              "0 -3.970049 -2.512336   5.346330    -1.012009   1.844900  0.329840\n",
              "1 -1.195217 -2.839257   3.664059     1.588232   0.853286  0.867530\n",
              "2 -0.292024 -1.351282  -1.738429    -0.342616   2.838636 -0.038033\n",
              "3 -0.657196 -2.271627   1.324874    -0.097875   3.637970 -3.413761\n",
              "4  1.364217 -1.296612  -0.384658    -0.553006   3.030874 -1.303849"
            ]
          },
          "execution_count": 47,
          "metadata": {},
          "output_type": "execute_result"
        }
      ],
      "source": [
        "filter_data=df_apple.iloc[:,1:7]\n",
        "filter_data.head()"
      ]
    },
    {
      "cell_type": "code",
      "execution_count": 48,
      "metadata": {
        "colab": {
          "base_uri": "https://localhost:8080/"
        },
        "id": "HeJMsEvorriB",
        "outputId": "7bdd7398-3cf2-4504-bbe6-e9eee2e98dfa"
      },
      "outputs": [
        {
          "name": "stdout",
          "output_type": "stream",
          "text": [
            "<class 'pandas.core.frame.DataFrame'>\n",
            "Index: 4000 entries, 0 to 3999\n",
            "Data columns (total 9 columns):\n",
            " #   Column       Non-Null Count  Dtype  \n",
            "---  ------       --------------  -----  \n",
            " 0   A_id         4000 non-null   float64\n",
            " 1   Size         4000 non-null   float64\n",
            " 2   Weight       4000 non-null   float64\n",
            " 3   Sweetness    4000 non-null   float64\n",
            " 4   Crunchiness  4000 non-null   float64\n",
            " 5   Juiciness    4000 non-null   float64\n",
            " 6   Ripeness     4000 non-null   float64\n",
            " 7   Acidity      4000 non-null   object \n",
            " 8   Quality      4000 non-null   object \n",
            "dtypes: float64(7), object(2)\n",
            "memory usage: 312.5+ KB\n"
          ]
        }
      ],
      "source": [
        "for column in filter_data.columns:\n",
        "    Q1 = filter_data[column].quantile(0.25)\n",
        "    Q3 = filter_data[column].quantile(0.75)\n",
        "    IQR = Q3 - Q1\n",
        "    lower_bound = Q1 - 1.5 * IQR\n",
        "    upper_bound = Q3 + 1.5 * IQR\n",
        "\n",
        "    mask = (filter_data[column] < lower_bound) | (filter_data[column] > upper_bound)\n",
        "    median_value = filter_data[column].median()\n",
        "    df_apple[column][mask] = median_value\n",
        "\n",
        "df_apple.info()"
      ]
    },
    {
      "cell_type": "code",
      "execution_count": 49,
      "metadata": {
        "colab": {
          "base_uri": "https://localhost:8080/"
        },
        "id": "qD7qmuthtQGp",
        "outputId": "fdae09d1-564d-4317-a8bf-b769916eee2c"
      },
      "outputs": [],
      "source": [
        "df_apple.drop('A_id', axis=1, inplace=True)"
      ]
    },
    {
      "cell_type": "code",
      "execution_count": 50,
      "metadata": {
        "colab": {
          "base_uri": "https://localhost:8080/"
        },
        "id": "nsqk5Kj4t088",
        "outputId": "d98d3918-93d3-4cbb-fb58-90cbdb2886f6"
      },
      "outputs": [
        {
          "name": "stdout",
          "output_type": "stream",
          "text": [
            "<class 'pandas.core.frame.DataFrame'>\n",
            "Index: 4000 entries, 0 to 3999\n",
            "Data columns (total 8 columns):\n",
            " #   Column       Non-Null Count  Dtype  \n",
            "---  ------       --------------  -----  \n",
            " 0   Size         4000 non-null   float64\n",
            " 1   Weight       4000 non-null   float64\n",
            " 2   Sweetness    4000 non-null   float64\n",
            " 3   Crunchiness  4000 non-null   float64\n",
            " 4   Juiciness    4000 non-null   float64\n",
            " 5   Ripeness     4000 non-null   float64\n",
            " 6   Acidity      4000 non-null   object \n",
            " 7   Quality      4000 non-null   object \n",
            "dtypes: float64(6), object(2)\n",
            "memory usage: 281.2+ KB\n"
          ]
        }
      ],
      "source": [
        "df_apple.info()"
      ]
    },
    {
      "cell_type": "code",
      "execution_count": 51,
      "metadata": {
        "colab": {
          "base_uri": "https://localhost:8080/",
          "height": 472
        },
        "id": "cTIZpzjOuJf9",
        "outputId": "0c1ca99e-1629-460d-8e3d-5abea50b3695"
      },
      "outputs": [
        {
          "data": {
            "image/png": "[encoded data removed]",
            "text/plain": [
              "<Figure size 640x480 with 1 Axes>"
            ]
          },
          "metadata": {},
          "output_type": "display_data"
        }
      ],
      "source": [
        "counter=df_apple.Size.value_counts()\n",
        "plt.boxplot(counter.index)\n",
        "\n",
        "plt.xlabel('size')\n",
        "plt.ylabel('Values')\n",
        "plt.title('Box Plot Example')\n",
        "\n",
        "plt.show()"
      ]
    },
    {
      "cell_type": "code",
      "execution_count": 52,
      "metadata": {
        "colab": {
          "base_uri": "https://localhost:8080/",
          "height": 472
        },
        "id": "8Bn69f9Xucp2",
        "outputId": "a1801851-aa1b-434d-a8c6-44194d6ac2ec"
      },
      "outputs": [
        {
          "data": {
            "image/png": "[encoded data removed]",
            "text/plain": [
              "<Figure size 640x480 with 1 Axes>"
            ]
          },
          "metadata": {},
          "output_type": "display_data"
        }
      ],
      "source": [
        "plt.hist(df_apple['Size'], bins=150, color='lightblue', edgecolor='black')\n",
        "plt.xlabel('size values')\n",
        "plt.ylabel('Frequency')\n",
        "plt.title('size distribution')\n",
        "\n",
        "plt.show()"
      ]
    },
    {
      "cell_type": "code",
      "execution_count": 53,
      "metadata": {
        "colab": {
          "base_uri": "https://localhost:8080/",
          "height": 424
        },
        "id": "31lRGHKIvLW-",
        "outputId": "f743401c-5338-424d-da9c-7692902f8930"
      },
      "outputs": [
        {
          "data": {
            "text/html": [
              "<div>\n",
              "<style scoped>\n",
              "    .dataframe tbody tr th:only-of-type {\n",
              "        vertical-align: middle;\n",
              "    }\n",
              "\n",
              "    .dataframe tbody tr th {\n",
              "        vertical-align: top;\n",
              "    }\n",
              "\n",
              "    .dataframe thead th {\n",
              "        text-align: right;\n",
              "    }\n",
              "</style>\n",
              "<table border=\"1\" class=\"dataframe\">\n",
              "  <thead>\n",
              "    <tr style=\"text-align: right;\">\n",
              "      <th></th>\n",
              "      <th>Size</th>\n",
              "      <th>Weight</th>\n",
              "      <th>Sweetness</th>\n",
              "      <th>Crunchiness</th>\n",
              "      <th>Juiciness</th>\n",
              "      <th>Ripeness</th>\n",
              "    </tr>\n",
              "  </thead>\n",
              "  <tbody>\n",
              "    <tr>\n",
              "      <th>0</th>\n",
              "      <td>-3.970049</td>\n",
              "      <td>-2.512336</td>\n",
              "      <td>-0.504758</td>\n",
              "      <td>-1.012009</td>\n",
              "      <td>1.844900</td>\n",
              "      <td>0.329840</td>\n",
              "    </tr>\n",
              "    <tr>\n",
              "      <th>1</th>\n",
              "      <td>-1.195217</td>\n",
              "      <td>-2.839257</td>\n",
              "      <td>3.664059</td>\n",
              "      <td>1.588232</td>\n",
              "      <td>0.853286</td>\n",
              "      <td>0.867530</td>\n",
              "    </tr>\n",
              "    <tr>\n",
              "      <th>2</th>\n",
              "      <td>-0.292024</td>\n",
              "      <td>-1.351282</td>\n",
              "      <td>-1.738429</td>\n",
              "      <td>-0.342616</td>\n",
              "      <td>2.838636</td>\n",
              "      <td>-0.038033</td>\n",
              "    </tr>\n",
              "    <tr>\n",
              "      <th>3</th>\n",
              "      <td>-0.657196</td>\n",
              "      <td>-2.271627</td>\n",
              "      <td>1.324874</td>\n",
              "      <td>-0.097875</td>\n",
              "      <td>3.637970</td>\n",
              "      <td>-3.413761</td>\n",
              "    </tr>\n",
              "    <tr>\n",
              "      <th>4</th>\n",
              "      <td>1.364217</td>\n",
              "      <td>-1.296612</td>\n",
              "      <td>-0.384658</td>\n",
              "      <td>-0.553006</td>\n",
              "      <td>3.030874</td>\n",
              "      <td>-1.303849</td>\n",
              "    </tr>\n",
              "    <tr>\n",
              "      <th>...</th>\n",
              "      <td>...</td>\n",
              "      <td>...</td>\n",
              "      <td>...</td>\n",
              "      <td>...</td>\n",
              "      <td>...</td>\n",
              "      <td>...</td>\n",
              "    </tr>\n",
              "    <tr>\n",
              "      <th>3995</th>\n",
              "      <td>0.059386</td>\n",
              "      <td>-1.067408</td>\n",
              "      <td>-3.714549</td>\n",
              "      <td>0.473052</td>\n",
              "      <td>1.697986</td>\n",
              "      <td>2.244055</td>\n",
              "    </tr>\n",
              "    <tr>\n",
              "      <th>3996</th>\n",
              "      <td>-0.293118</td>\n",
              "      <td>1.949253</td>\n",
              "      <td>-0.204020</td>\n",
              "      <td>-0.640196</td>\n",
              "      <td>0.024523</td>\n",
              "      <td>-1.087900</td>\n",
              "    </tr>\n",
              "    <tr>\n",
              "      <th>3997</th>\n",
              "      <td>-2.634515</td>\n",
              "      <td>-2.138247</td>\n",
              "      <td>-2.440461</td>\n",
              "      <td>0.657223</td>\n",
              "      <td>2.199709</td>\n",
              "      <td>4.763859</td>\n",
              "    </tr>\n",
              "    <tr>\n",
              "      <th>3998</th>\n",
              "      <td>-4.008004</td>\n",
              "      <td>-1.779337</td>\n",
              "      <td>2.366397</td>\n",
              "      <td>-0.200329</td>\n",
              "      <td>2.161435</td>\n",
              "      <td>0.214488</td>\n",
              "    </tr>\n",
              "    <tr>\n",
              "      <th>3999</th>\n",
              "      <td>0.278540</td>\n",
              "      <td>-1.715505</td>\n",
              "      <td>0.121217</td>\n",
              "      <td>-1.154075</td>\n",
              "      <td>1.266677</td>\n",
              "      <td>-0.776571</td>\n",
              "    </tr>\n",
              "  </tbody>\n",
              "</table>\n",
              "<p>4000 rows × 6 columns</p>\n",
              "</div>"
            ],
            "text/plain": [
              "          Size    Weight  Sweetness  Crunchiness  Juiciness  Ripeness\n",
              "0    -3.970049 -2.512336  -0.504758    -1.012009   1.844900  0.329840\n",
              "1    -1.195217 -2.839257   3.664059     1.588232   0.853286  0.867530\n",
              "2    -0.292024 -1.351282  -1.738429    -0.342616   2.838636 -0.038033\n",
              "3    -0.657196 -2.271627   1.324874    -0.097875   3.637970 -3.413761\n",
              "4     1.364217 -1.296612  -0.384658    -0.553006   3.030874 -1.303849\n",
              "...        ...       ...        ...          ...        ...       ...\n",
              "3995  0.059386 -1.067408  -3.714549     0.473052   1.697986  2.244055\n",
              "3996 -0.293118  1.949253  -0.204020    -0.640196   0.024523 -1.087900\n",
              "3997 -2.634515 -2.138247  -2.440461     0.657223   2.199709  4.763859\n",
              "3998 -4.008004 -1.779337   2.366397    -0.200329   2.161435  0.214488\n",
              "3999  0.278540 -1.715505   0.121217    -1.154075   1.266677 -0.776571\n",
              "\n",
              "[4000 rows x 6 columns]"
            ]
          },
          "execution_count": 53,
          "metadata": {},
          "output_type": "execute_result"
        }
      ],
      "source": [
        "df_apple.iloc[:,[0,1,2,3,4,5]]"
      ]
    },
    {
      "cell_type": "code",
      "execution_count": 54,
      "metadata": {
        "colab": {
          "base_uri": "https://localhost:8080/",
          "height": 424
        },
        "id": "VYRl9jyCvHuS",
        "outputId": "f82b4b87-e9cb-47a4-ced4-44865e0e54ed"
      },
      "outputs": [
        {
          "data": {
            "text/html": [
              "<div>\n",
              "<style scoped>\n",
              "    .dataframe tbody tr th:only-of-type {\n",
              "        vertical-align: middle;\n",
              "    }\n",
              "\n",
              "    .dataframe tbody tr th {\n",
              "        vertical-align: top;\n",
              "    }\n",
              "\n",
              "    .dataframe thead th {\n",
              "        text-align: right;\n",
              "    }\n",
              "</style>\n",
              "<table border=\"1\" class=\"dataframe\">\n",
              "  <thead>\n",
              "    <tr style=\"text-align: right;\">\n",
              "      <th></th>\n",
              "      <th>Size</th>\n",
              "      <th>Weight</th>\n",
              "      <th>Sweetness</th>\n",
              "      <th>Crunchiness</th>\n",
              "      <th>Juiciness</th>\n",
              "      <th>Ripeness</th>\n",
              "    </tr>\n",
              "  </thead>\n",
              "  <tbody>\n",
              "    <tr>\n",
              "      <th>0</th>\n",
              "      <td>-3.970049</td>\n",
              "      <td>-2.512336</td>\n",
              "      <td>-0.504758</td>\n",
              "      <td>-1.012009</td>\n",
              "      <td>1.844900</td>\n",
              "      <td>0.329840</td>\n",
              "    </tr>\n",
              "    <tr>\n",
              "      <th>1</th>\n",
              "      <td>-1.195217</td>\n",
              "      <td>-2.839257</td>\n",
              "      <td>3.664059</td>\n",
              "      <td>1.588232</td>\n",
              "      <td>0.853286</td>\n",
              "      <td>0.867530</td>\n",
              "    </tr>\n",
              "    <tr>\n",
              "      <th>2</th>\n",
              "      <td>-0.292024</td>\n",
              "      <td>-1.351282</td>\n",
              "      <td>-1.738429</td>\n",
              "      <td>-0.342616</td>\n",
              "      <td>2.838636</td>\n",
              "      <td>-0.038033</td>\n",
              "    </tr>\n",
              "    <tr>\n",
              "      <th>3</th>\n",
              "      <td>-0.657196</td>\n",
              "      <td>-2.271627</td>\n",
              "      <td>1.324874</td>\n",
              "      <td>-0.097875</td>\n",
              "      <td>3.637970</td>\n",
              "      <td>-3.413761</td>\n",
              "    </tr>\n",
              "    <tr>\n",
              "      <th>4</th>\n",
              "      <td>1.364217</td>\n",
              "      <td>-1.296612</td>\n",
              "      <td>-0.384658</td>\n",
              "      <td>-0.553006</td>\n",
              "      <td>3.030874</td>\n",
              "      <td>-1.303849</td>\n",
              "    </tr>\n",
              "    <tr>\n",
              "      <th>...</th>\n",
              "      <td>...</td>\n",
              "      <td>...</td>\n",
              "      <td>...</td>\n",
              "      <td>...</td>\n",
              "      <td>...</td>\n",
              "      <td>...</td>\n",
              "    </tr>\n",
              "    <tr>\n",
              "      <th>3995</th>\n",
              "      <td>0.059386</td>\n",
              "      <td>-1.067408</td>\n",
              "      <td>-3.714549</td>\n",
              "      <td>0.473052</td>\n",
              "      <td>1.697986</td>\n",
              "      <td>2.244055</td>\n",
              "    </tr>\n",
              "    <tr>\n",
              "      <th>3996</th>\n",
              "      <td>-0.293118</td>\n",
              "      <td>1.949253</td>\n",
              "      <td>-0.204020</td>\n",
              "      <td>-0.640196</td>\n",
              "      <td>0.024523</td>\n",
              "      <td>-1.087900</td>\n",
              "    </tr>\n",
              "    <tr>\n",
              "      <th>3997</th>\n",
              "      <td>-2.634515</td>\n",
              "      <td>-2.138247</td>\n",
              "      <td>-2.440461</td>\n",
              "      <td>0.657223</td>\n",
              "      <td>2.199709</td>\n",
              "      <td>4.763859</td>\n",
              "    </tr>\n",
              "    <tr>\n",
              "      <th>3998</th>\n",
              "      <td>-4.008004</td>\n",
              "      <td>-1.779337</td>\n",
              "      <td>2.366397</td>\n",
              "      <td>-0.200329</td>\n",
              "      <td>2.161435</td>\n",
              "      <td>0.214488</td>\n",
              "    </tr>\n",
              "    <tr>\n",
              "      <th>3999</th>\n",
              "      <td>0.278540</td>\n",
              "      <td>-1.715505</td>\n",
              "      <td>0.121217</td>\n",
              "      <td>-1.154075</td>\n",
              "      <td>1.266677</td>\n",
              "      <td>-0.776571</td>\n",
              "    </tr>\n",
              "  </tbody>\n",
              "</table>\n",
              "<p>4000 rows × 6 columns</p>\n",
              "</div>"
            ],
            "text/plain": [
              "          Size    Weight  Sweetness  Crunchiness  Juiciness  Ripeness\n",
              "0    -3.970049 -2.512336  -0.504758    -1.012009   1.844900  0.329840\n",
              "1    -1.195217 -2.839257   3.664059     1.588232   0.853286  0.867530\n",
              "2    -0.292024 -1.351282  -1.738429    -0.342616   2.838636 -0.038033\n",
              "3    -0.657196 -2.271627   1.324874    -0.097875   3.637970 -3.413761\n",
              "4     1.364217 -1.296612  -0.384658    -0.553006   3.030874 -1.303849\n",
              "...        ...       ...        ...          ...        ...       ...\n",
              "3995  0.059386 -1.067408  -3.714549     0.473052   1.697986  2.244055\n",
              "3996 -0.293118  1.949253  -0.204020    -0.640196   0.024523 -1.087900\n",
              "3997 -2.634515 -2.138247  -2.440461     0.657223   2.199709  4.763859\n",
              "3998 -4.008004 -1.779337   2.366397    -0.200329   2.161435  0.214488\n",
              "3999  0.278540 -1.715505   0.121217    -1.154075   1.266677 -0.776571\n",
              "\n",
              "[4000 rows x 6 columns]"
            ]
          },
          "execution_count": 54,
          "metadata": {},
          "output_type": "execute_result"
        }
      ],
      "source": [
        "correalation=df_apple.iloc[:,[0,1,2,3,4,5]]\n",
        "correalation"
      ]
    },
    {
      "cell_type": "code",
      "execution_count": 55,
      "metadata": {
        "colab": {
          "base_uri": "https://localhost:8080/",
          "height": 238
        },
        "id": "OWZ1lOaXvUqG",
        "outputId": "2344702f-ebe8-4909-ef86-f916b6d02b83"
      },
      "outputs": [
        {
          "data": {
            "text/html": [
              "<div>\n",
              "<style scoped>\n",
              "    .dataframe tbody tr th:only-of-type {\n",
              "        vertical-align: middle;\n",
              "    }\n",
              "\n",
              "    .dataframe tbody tr th {\n",
              "        vertical-align: top;\n",
              "    }\n",
              "\n",
              "    .dataframe thead th {\n",
              "        text-align: right;\n",
              "    }\n",
              "</style>\n",
              "<table border=\"1\" class=\"dataframe\">\n",
              "  <thead>\n",
              "    <tr style=\"text-align: right;\">\n",
              "      <th></th>\n",
              "      <th>Size</th>\n",
              "      <th>Weight</th>\n",
              "      <th>Sweetness</th>\n",
              "      <th>Crunchiness</th>\n",
              "      <th>Juiciness</th>\n",
              "      <th>Ripeness</th>\n",
              "    </tr>\n",
              "  </thead>\n",
              "  <tbody>\n",
              "    <tr>\n",
              "      <th>Size</th>\n",
              "      <td>1.000000</td>\n",
              "      <td>-0.140180</td>\n",
              "      <td>-0.312955</td>\n",
              "      <td>0.165760</td>\n",
              "      <td>-0.022888</td>\n",
              "      <td>-0.139821</td>\n",
              "    </tr>\n",
              "    <tr>\n",
              "      <th>Weight</th>\n",
              "      <td>-0.140180</td>\n",
              "      <td>1.000000</td>\n",
              "      <td>-0.120500</td>\n",
              "      <td>-0.086807</td>\n",
              "      <td>-0.090456</td>\n",
              "      <td>-0.221947</td>\n",
              "    </tr>\n",
              "    <tr>\n",
              "      <th>Sweetness</th>\n",
              "      <td>-0.312955</td>\n",
              "      <td>-0.120500</td>\n",
              "      <td>1.000000</td>\n",
              "      <td>-0.014191</td>\n",
              "      <td>0.089395</td>\n",
              "      <td>-0.258363</td>\n",
              "    </tr>\n",
              "    <tr>\n",
              "      <th>Crunchiness</th>\n",
              "      <td>0.165760</td>\n",
              "      <td>-0.086807</td>\n",
              "      <td>-0.014191</td>\n",
              "      <td>1.000000</td>\n",
              "      <td>-0.227767</td>\n",
              "      <td>-0.181666</td>\n",
              "    </tr>\n",
              "    <tr>\n",
              "      <th>Juiciness</th>\n",
              "      <td>-0.022888</td>\n",
              "      <td>-0.090456</td>\n",
              "      <td>0.089395</td>\n",
              "      <td>-0.227767</td>\n",
              "      <td>1.000000</td>\n",
              "      <td>-0.108158</td>\n",
              "    </tr>\n",
              "    <tr>\n",
              "      <th>Ripeness</th>\n",
              "      <td>-0.139821</td>\n",
              "      <td>-0.221947</td>\n",
              "      <td>-0.258363</td>\n",
              "      <td>-0.181666</td>\n",
              "      <td>-0.108158</td>\n",
              "      <td>1.000000</td>\n",
              "    </tr>\n",
              "  </tbody>\n",
              "</table>\n",
              "</div>"
            ],
            "text/plain": [
              "                 Size    Weight  Sweetness  Crunchiness  Juiciness  Ripeness\n",
              "Size         1.000000 -0.140180  -0.312955     0.165760  -0.022888 -0.139821\n",
              "Weight      -0.140180  1.000000  -0.120500    -0.086807  -0.090456 -0.221947\n",
              "Sweetness   -0.312955 -0.120500   1.000000    -0.014191   0.089395 -0.258363\n",
              "Crunchiness  0.165760 -0.086807  -0.014191     1.000000  -0.227767 -0.181666\n",
              "Juiciness   -0.022888 -0.090456   0.089395    -0.227767   1.000000 -0.108158\n",
              "Ripeness    -0.139821 -0.221947  -0.258363    -0.181666  -0.108158  1.000000"
            ]
          },
          "execution_count": 55,
          "metadata": {},
          "output_type": "execute_result"
        }
      ],
      "source": [
        "correalation.corr()"
      ]
    },
    {
      "cell_type": "code",
      "execution_count": 56,
      "metadata": {
        "colab": {
          "base_uri": "https://localhost:8080/",
          "height": 545
        },
        "id": "5L0N0AeqvCZg",
        "outputId": "47dc0458-fde6-41af-c252-16f1a547645f"
      },
      "outputs": [
        {
          "data": {
            "image/png": "[encoded data removed]",
            "text/plain": [
              "<Figure size 800x600 with 2 Axes>"
            ]
          },
          "metadata": {},
          "output_type": "display_data"
        }
      ],
      "source": [
        "import seaborn as sns\n",
        "\n",
        "realtion=correalation.corr()\n",
        "plt.figure(figsize=(8, 6))\n",
        "sns.heatmap(realtion ,annot=True, cmap='coolwarm', fmt=\".2f\", linewidths=.5)\n",
        "plt.title('Correlation Heatmap')\n",
        "plt.show()"
      ]
    }
  ],
  "metadata": {
    "colab": {
      "provenance": []
    },
    "kernelspec": {
      "display_name": "Python 3",
      "name": "python3"
    },
    "language_info": {
      "codemirror_mode": {
        "name": "ipython",
        "version": 3
      },
      "file_extension": ".py",
      "mimetype": "text/x-python",
      "name": "python",
      "nbconvert_exporter": "python",
      "pygments_lexer": "ipython3",
      "version": "3.12.3"
    }
  },
  "nbformat": 4,
  "nbformat_minor": 0
}
